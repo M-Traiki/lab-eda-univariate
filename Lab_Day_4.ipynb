{
 "cells": [
  {
   "cell_type": "markdown",
   "id": "a9a50a42",
   "metadata": {},
   "source": [
    "## Lab - EDA Univariate Analysis: Diving into Amazon UK Product Insights\n",
    "\n",
    "**Objective**: Explore the product listing dynamics on Amazon UK to extract actionable business insights. By understanding the distribution, central tendencies, and relationships of various product attributes, businesses can make more informed decisions on product positioning, pricing strategies, and inventory management.\n",
    "\n",
    "**Dataset**: This lab utilizes the [Amazon UK product dataset](https://www.kaggle.com/datasets/asaniczka/uk-optimal-product-price-prediction/)\n",
    "which provides information on product categories, brands, prices, ratings, and more from from Amazon UK. You'll need to download it to start working with it.\n",
    "\n",
    "\n",
    "---\n",
    "\n",
    "### Part 1: Understanding Product Categories\n",
    "\n",
    "**Business Question**: What are the most popular product categories on Amazon UK, and how do they compare in terms of listing frequency?\n",
    "\n",
    "1. **Frequency Tables**:\n",
    "    - Generate a frequency table for the product `category`.\n",
    "    - Which are the top 5 most listed product categories?\n",
    "\n",
    "2. **Visualizations**:\n",
    "    - Display the distribution of products across different categories using a bar chart. *If you face problems understanding the chart, do it for a subset of top categories.*\n",
    "    - For a subset of top categories, visualize their proportions using a pie chart. Does any category dominate the listings?"
   ]
  },
  {
   "cell_type": "code",
   "execution_count": 1,
   "id": "bfd903df",
   "metadata": {},
   "outputs": [],
   "source": [
    "import numpy as np\n",
    "import matplotlib.pyplot as plt  \n",
    "import pandas as pd\n",
    "import seaborn as sns\n",
    "\n",
    "%matplotlib inline\n",
    "\n",
    "%config Inlinebackend.figure_format= 'retina'"
   ]
  },
  {
   "cell_type": "code",
   "execution_count": 2,
   "id": "bbf17f0c",
   "metadata": {},
   "outputs": [
    {
     "data": {
      "text/html": [
       "<div>\n",
       "<style scoped>\n",
       "    .dataframe tbody tr th:only-of-type {\n",
       "        vertical-align: middle;\n",
       "    }\n",
       "\n",
       "    .dataframe tbody tr th {\n",
       "        vertical-align: top;\n",
       "    }\n",
       "\n",
       "    .dataframe thead th {\n",
       "        text-align: right;\n",
       "    }\n",
       "</style>\n",
       "<table border=\"1\" class=\"dataframe\">\n",
       "  <thead>\n",
       "    <tr style=\"text-align: right;\">\n",
       "      <th></th>\n",
       "      <th>uid</th>\n",
       "      <th>asin</th>\n",
       "      <th>title</th>\n",
       "      <th>stars</th>\n",
       "      <th>reviews</th>\n",
       "      <th>price</th>\n",
       "      <th>isBestSeller</th>\n",
       "      <th>boughtInLastMonth</th>\n",
       "      <th>category</th>\n",
       "    </tr>\n",
       "  </thead>\n",
       "  <tbody>\n",
       "    <tr>\n",
       "      <th>0</th>\n",
       "      <td>1</td>\n",
       "      <td>B09B96TG33</td>\n",
       "      <td>Echo Dot (5th generation, 2022 release) | Big ...</td>\n",
       "      <td>4.7</td>\n",
       "      <td>15308</td>\n",
       "      <td>21.99</td>\n",
       "      <td>False</td>\n",
       "      <td>0</td>\n",
       "      <td>Hi-Fi Speakers</td>\n",
       "    </tr>\n",
       "    <tr>\n",
       "      <th>1</th>\n",
       "      <td>2</td>\n",
       "      <td>B01HTH3C8S</td>\n",
       "      <td>Anker Soundcore mini, Super-Portable Bluetooth...</td>\n",
       "      <td>4.7</td>\n",
       "      <td>98099</td>\n",
       "      <td>23.99</td>\n",
       "      <td>True</td>\n",
       "      <td>0</td>\n",
       "      <td>Hi-Fi Speakers</td>\n",
       "    </tr>\n",
       "    <tr>\n",
       "      <th>2</th>\n",
       "      <td>3</td>\n",
       "      <td>B09B8YWXDF</td>\n",
       "      <td>Echo Dot (5th generation, 2022 release) | Big ...</td>\n",
       "      <td>4.7</td>\n",
       "      <td>15308</td>\n",
       "      <td>21.99</td>\n",
       "      <td>False</td>\n",
       "      <td>0</td>\n",
       "      <td>Hi-Fi Speakers</td>\n",
       "    </tr>\n",
       "    <tr>\n",
       "      <th>3</th>\n",
       "      <td>4</td>\n",
       "      <td>B09B8T5VGV</td>\n",
       "      <td>Echo Dot with clock (5th generation, 2022 rele...</td>\n",
       "      <td>4.7</td>\n",
       "      <td>7205</td>\n",
       "      <td>31.99</td>\n",
       "      <td>False</td>\n",
       "      <td>0</td>\n",
       "      <td>Hi-Fi Speakers</td>\n",
       "    </tr>\n",
       "    <tr>\n",
       "      <th>4</th>\n",
       "      <td>5</td>\n",
       "      <td>B09WX6QD65</td>\n",
       "      <td>Introducing Echo Pop | Full sound compact Wi-F...</td>\n",
       "      <td>4.6</td>\n",
       "      <td>1881</td>\n",
       "      <td>17.99</td>\n",
       "      <td>False</td>\n",
       "      <td>0</td>\n",
       "      <td>Hi-Fi Speakers</td>\n",
       "    </tr>\n",
       "  </tbody>\n",
       "</table>\n",
       "</div>"
      ],
      "text/plain": [
       "   uid        asin                                              title  stars  \\\n",
       "0    1  B09B96TG33  Echo Dot (5th generation, 2022 release) | Big ...    4.7   \n",
       "1    2  B01HTH3C8S  Anker Soundcore mini, Super-Portable Bluetooth...    4.7   \n",
       "2    3  B09B8YWXDF  Echo Dot (5th generation, 2022 release) | Big ...    4.7   \n",
       "3    4  B09B8T5VGV  Echo Dot with clock (5th generation, 2022 rele...    4.7   \n",
       "4    5  B09WX6QD65  Introducing Echo Pop | Full sound compact Wi-F...    4.6   \n",
       "\n",
       "   reviews  price  isBestSeller  boughtInLastMonth        category  \n",
       "0    15308  21.99         False                  0  Hi-Fi Speakers  \n",
       "1    98099  23.99          True                  0  Hi-Fi Speakers  \n",
       "2    15308  21.99         False                  0  Hi-Fi Speakers  \n",
       "3     7205  31.99         False                  0  Hi-Fi Speakers  \n",
       "4     1881  17.99         False                  0  Hi-Fi Speakers  "
      ]
     },
     "execution_count": 2,
     "metadata": {},
     "output_type": "execute_result"
    }
   ],
   "source": [
    "df = pd.read_csv(r\"amz_uk_price_prediction_dataset.csv\")\n",
    "\n",
    "df.head()"
   ]
  },
  {
   "cell_type": "code",
   "execution_count": 3,
   "id": "350cd0bc",
   "metadata": {},
   "outputs": [
    {
     "name": "stdout",
     "output_type": "stream",
     "text": [
      "<class 'pandas.core.frame.DataFrame'>\n",
      "RangeIndex: 2443651 entries, 0 to 2443650\n",
      "Data columns (total 4 columns):\n",
      " #   Column        Dtype \n",
      "---  ------        ----- \n",
      " 0   asin          object\n",
      " 1   title         object\n",
      " 2   isBestSeller  bool  \n",
      " 3   category      object\n",
      "dtypes: bool(1), object(3)\n",
      "memory usage: 58.3+ MB\n"
     ]
    },
    {
     "data": {
      "text/html": [
       "<div>\n",
       "<style scoped>\n",
       "    .dataframe tbody tr th:only-of-type {\n",
       "        vertical-align: middle;\n",
       "    }\n",
       "\n",
       "    .dataframe tbody tr th {\n",
       "        vertical-align: top;\n",
       "    }\n",
       "\n",
       "    .dataframe thead th {\n",
       "        text-align: right;\n",
       "    }\n",
       "</style>\n",
       "<table border=\"1\" class=\"dataframe\">\n",
       "  <thead>\n",
       "    <tr style=\"text-align: right;\">\n",
       "      <th></th>\n",
       "      <th>count</th>\n",
       "      <th>unique</th>\n",
       "      <th>top</th>\n",
       "      <th>freq</th>\n",
       "    </tr>\n",
       "  </thead>\n",
       "  <tbody>\n",
       "    <tr>\n",
       "      <th>asin</th>\n",
       "      <td>2443651</td>\n",
       "      <td>2222742</td>\n",
       "      <td>B07MVP6T9C</td>\n",
       "      <td>7</td>\n",
       "    </tr>\n",
       "    <tr>\n",
       "      <th>title</th>\n",
       "      <td>2443651</td>\n",
       "      <td>2077591</td>\n",
       "      <td>OYhmc Portable Pedal Exerc</td>\n",
       "      <td>723</td>\n",
       "    </tr>\n",
       "    <tr>\n",
       "      <th>isBestSeller</th>\n",
       "      <td>2443651</td>\n",
       "      <td>2</td>\n",
       "      <td>False</td>\n",
       "      <td>2435671</td>\n",
       "    </tr>\n",
       "    <tr>\n",
       "      <th>category</th>\n",
       "      <td>2443651</td>\n",
       "      <td>296</td>\n",
       "      <td>Sports &amp; Outdoors</td>\n",
       "      <td>836265</td>\n",
       "    </tr>\n",
       "  </tbody>\n",
       "</table>\n",
       "</div>"
      ],
      "text/plain": [
       "                count   unique                         top     freq\n",
       "asin          2443651  2222742                  B07MVP6T9C        7\n",
       "title         2443651  2077591  OYhmc Portable Pedal Exerc      723\n",
       "isBestSeller  2443651        2                       False  2435671\n",
       "category      2443651      296           Sports & Outdoors   836265"
      ]
     },
     "metadata": {},
     "output_type": "display_data"
    },
    {
     "data": {
      "text/plain": [
       "Index(['asin', 'title', 'isBestSeller', 'category'], dtype='object')"
      ]
     },
     "execution_count": 3,
     "metadata": {},
     "output_type": "execute_result"
    }
   ],
   "source": [
    "cat = df.select_dtypes(exclude=\"number\")\n",
    "cat.info()\n",
    "display(cat.describe().T)\n",
    "cat.columns\n"
   ]
  },
  {
   "cell_type": "code",
   "execution_count": 4,
   "id": "32ea0056",
   "metadata": {},
   "outputs": [
    {
     "data": {
      "text/plain": [
       "category\n",
       "Sports & Outdoors                         836265\n",
       "Beauty                                     19312\n",
       "Handmade Clothing, Shoes & Accessories     19229\n",
       "Bath & Body                                19092\n",
       "Birthday Gifts                             18978\n",
       "Name: count, dtype: int64"
      ]
     },
     "execution_count": 4,
     "metadata": {},
     "output_type": "execute_result"
    }
   ],
   "source": [
    "cat.category.value_counts().head(5)"
   ]
  },
  {
   "cell_type": "markdown",
   "id": "69dc3e7f",
   "metadata": {},
   "source": [
    "the top 5 categories listed are Sports & Outdoors, Beauty, Handmade Clothing, Shoes & Accessories, Bath & Body, and Birthday Gifts "
   ]
  },
  {
   "cell_type": "code",
   "execution_count": 5,
   "id": "d7585458",
   "metadata": {},
   "outputs": [
    {
     "data": {
      "text/plain": [
       "category\n",
       "Sports & Outdoors                         836265\n",
       "Beauty                                     19312\n",
       "Handmade Clothing, Shoes & Accessories     19229\n",
       "Bath & Body                                19092\n",
       "Birthday Gifts                             18978\n",
       "Manicure & Pedicure Products               18940\n",
       "Skin Care                                  18769\n",
       "Make-up                                    18756\n",
       "Name: count, dtype: int64"
      ]
     },
     "metadata": {},
     "output_type": "display_data"
    },
    {
     "name": "stderr",
     "output_type": "stream",
     "text": [
      "C:\\Users\\traik\\AppData\\Local\\Temp\\ipykernel_9140\\3047955774.py:7: FutureWarning: \n",
      "\n",
      "Passing `palette` without assigning `hue` is deprecated and will be removed in v0.14.0. Assign the `x` variable to `hue` and set `legend=False` for the same effect.\n",
      "\n",
      "  sns.barplot(x=top_cats.index, y=top_cats.values, palette = \"magma\")\n"
     ]
    },
    {
     "data": {
      "text/plain": [
       "([0, 1, 2, 3, 4, 5, 6, 7],\n",
       " [Text(0, 0, 'Sports & Outdoors'),\n",
       "  Text(1, 0, 'Beauty'),\n",
       "  Text(2, 0, 'Handmade Clothing, Shoes & Accessories'),\n",
       "  Text(3, 0, 'Bath & Body'),\n",
       "  Text(4, 0, 'Birthday Gifts'),\n",
       "  Text(5, 0, 'Manicure & Pedicure Products'),\n",
       "  Text(6, 0, 'Skin Care'),\n",
       "  Text(7, 0, 'Make-up')])"
      ]
     },
     "execution_count": 5,
     "metadata": {},
     "output_type": "execute_result"
    },
    {
     "data": {
      "image/png": "[encoded data removed]",
      "text/plain": [
       "<Figure size 1200x600 with 1 Axes>"
      ]
     },
     "metadata": {},
     "output_type": "display_data"
    }
   ],
   "source": [
    "#cat = cat.reset_index()\n",
    "top_cats = cat['category'].value_counts().head(8)\n",
    "display(top_cats)\n",
    "#sns.countplot(data=cat, x=top_cats, palette = \"magma\")\n",
    "\n",
    "plt.figure(figsize=(12,6))\n",
    "sns.barplot(x=top_cats.index, y=top_cats.values, palette = \"magma\")\n",
    "plt.xticks(rotation = 45)"
   ]
  },
  {
   "cell_type": "code",
   "execution_count": 6,
   "id": "c4fb0186",
   "metadata": {},
   "outputs": [
    {
     "data": {
      "text/plain": [
       "<Axes: ylabel='count'>"
      ]
     },
     "execution_count": 6,
     "metadata": {},
     "output_type": "execute_result"
    },
    {
     "data": {
      "image/png": "[encoded data removed]",
      "text/plain": [
       "<Figure size 640x480 with 1 Axes>"
      ]
     },
     "metadata": {},
     "output_type": "display_data"
    }
   ],
   "source": [
    "top_cats_subset = top_cats.iloc[1:6]\n",
    "top_cats_subset.plot.pie(autopct ='%1.2f%%', startangle = 90, )"
   ]
  },
  {
   "cell_type": "markdown",
   "id": "1b719f9b",
   "metadata": {},
   "source": [
    "### Part 2: Delving into Product Pricing\n",
    "\n",
    "**Business Question**: How are products priced on Amazon UK, and are there specific price points or ranges that are more common?\n",
    "\n",
    "1. **Measures of Centrality**:\n",
    "    - Calculate the mean, median, and mode for the `price` of products.\n",
    "    - What's the average price point of products listed? How does this compare with the most common price point (mode)?\n",
    "\n",
    "2. **Measures of Dispersion**:\n",
    "    - Determine the variance, standard deviation, range, and interquartile range for product `price`.\n",
    "    - How varied are the product prices? Are there any indicators of a significant spread in prices?\n",
    "\n",
    "3. **Visualizations**:\n",
    "    - Is there a specific price range where most products fall? Plot a histogram to visualize the distribution of product prices. *If its hard to read these diagrams, think why this is, and explain how it could be solved.*.\n",
    "    - Are there products that are priced significantly higher than the rest? Use a box plot to showcase the spread and potential outliers in product pricing. \n",
    "\n"
   ]
  },
  {
   "cell_type": "code",
   "execution_count": 7,
   "id": "c31dd23d",
   "metadata": {},
   "outputs": [
    {
     "name": "stdout",
     "output_type": "stream",
     "text": [
      "<class 'numpy.float64'>\n",
      "89.24\n",
      "\n",
      "mean of prices = 89.24,\n",
      "prices_median = 19.09,\n",
      "mode prices = 0    9.99\n",
      "Name: price, dtype: float64\n"
     ]
    }
   ],
   "source": [
    "prices_mean = round(df[\"price\"].mean(),2)\n",
    "prices_median = round(df[\"price\"].median(),2)\n",
    "price_mode = round(df[\"price\"].mode(),2)\n",
    "print(type(prices_mean))\n",
    "print(prices_mean)\n",
    "print(f\"\"\"\n",
    "mean of prices = {prices_mean},\n",
    "prices_median = {prices_median},\n",
    "mode prices = {price_mode}\"\"\")"
   ]
  },
  {
   "cell_type": "markdown",
   "id": "c659f94d",
   "metadata": {},
   "source": [
    "The mean of prices is way higher than the mode of all prices. Almost nine times higher!"
   ]
  },
  {
   "cell_type": "code",
   "execution_count": 8,
   "id": "3d7d9136",
   "metadata": {},
   "outputs": [
    {
     "name": "stdout",
     "output_type": "stream",
     "text": [
      "\n",
      "standard deviation of prices = 345.61,\n",
      "range of prices = 100000.0,\n",
      "interquantile of prices = 36.0\n"
     ]
    }
   ],
   "source": [
    "sd_prices = round(df[\"price\"].std(),2)\n",
    "iqr_prices = round(df[\"price\"].quantile(0.75)-df[\"price\"].quantile(0.25),2)\n",
    "range_prices = round(df[\"price\"].max()-df[\"price\"].min(),2)\n",
    "print(f\"\"\"\n",
    "standard deviation of prices = {sd_prices},\n",
    "range of prices = {range_prices},\n",
    "interquantile of prices = {iqr_prices}\"\"\")"
   ]
  },
  {
   "cell_type": "markdown",
   "id": "33b274e3",
   "metadata": {},
   "source": [
    "the prices are pretty spread as shown by the very big range, although that includes outliers. However, standard deviation is also pretty significant\n",
    "as is the iqr of the prices"
   ]
  },
  {
   "cell_type": "code",
   "execution_count": 9,
   "id": "28d1a366",
   "metadata": {},
   "outputs": [
    {
     "data": {
      "image/png": "[encoded data removed]",
      "text/plain": [
       "<Figure size 640x480 with 1 Axes>"
      ]
     },
     "metadata": {},
     "output_type": "display_data"
    }
   ],
   "source": [
    "plt.hist(df[\"price\"])\n",
    "plt.show()"
   ]
  },
  {
   "cell_type": "markdown",
   "id": "d0e3503c",
   "metadata": {},
   "source": [
    "most prices fall in the range 0 and 1000. we cant visually see the outliers that even reach the 10000 price since in comparison to the \n",
    "number of products falling in the 0 to 1000 range almost negligable. To solve it we may have to scale y-axis and x-axis."
   ]
  },
  {
   "cell_type": "code",
   "execution_count": 10,
   "id": "050ae683",
   "metadata": {},
   "outputs": [
    {
     "data": {
      "text/plain": [
       "<function matplotlib.pyplot.show(close=None, block=None)>"
      ]
     },
     "execution_count": 10,
     "metadata": {},
     "output_type": "execute_result"
    },
    {
     "data": {
      "image/png": "[encoded data removed]",
      "text/plain": [
       "<Figure size 640x480 with 1 Axes>"
      ]
     },
     "metadata": {},
     "output_type": "display_data"
    }
   ],
   "source": [
    "plt.boxplot(df[\"price\"])\n",
    "plt.show"
   ]
  },
  {
   "cell_type": "markdown",
   "id": "8780f044",
   "metadata": {},
   "source": []
  },
  {
   "cell_type": "markdown",
   "id": "8c8e1d50",
   "metadata": {},
   "source": [
    "### Part 3: Unpacking Product Ratings\n",
    "\n",
    "**Business Question**: How do customers rate products on Amazon UK, and are there any patterns or tendencies in the ratings?\n",
    "\n",
    "1. **Measures of Centrality**:\n",
    "    - Calculate the mean, median, and mode for the `rating` of products.\n",
    "    - How do customers generally rate products? Is there a common trend?\n",
    "\n",
    "2. **Measures of Dispersion**:\n",
    "    - Determine the variance, standard deviation, and interquartile range for product `rating`.\n",
    "    - Are the ratings consistent, or is there a wide variation in customer feedback?\n",
    "\n",
    "3. **Shape of the Distribution**:\n",
    "    - Calculate the skewness and kurtosis for the `rating` column. \n",
    "    - Are the ratings normally distributed, or do they lean towards higher or lower values?\n",
    "\n",
    "4. **Visualizations**:\n",
    "    - Plot a histogram to visualize the distribution of product ratings. Is there a specific rating that is more common?\n",
    "\n",
    "---\n",
    "\n",
    "**Submission**: Submit a Jupyter Notebook which contains code and a business-centric report summarizing your findings. "
   ]
  },
  {
   "cell_type": "code",
   "execution_count": 14,
   "id": "9a6045ed",
   "metadata": {},
   "outputs": [
    {
     "name": "stdout",
     "output_type": "stream",
     "text": [
      "Index(['uid', 'asin', 'title', 'stars', 'reviews', 'price', 'isBestSeller',\n",
      "       'boughtInLastMonth', 'category'],\n",
      "      dtype='object')\n"
     ]
    },
    {
     "data": {
      "text/plain": [
       "0          4.7\n",
       "1          4.7\n",
       "2          4.7\n",
       "3          4.7\n",
       "4          4.6\n",
       "          ... \n",
       "2443642    3.6\n",
       "2443643    4.1\n",
       "2443644    3.6\n",
       "2443649    4.3\n",
       "2443650    4.5\n",
       "Name: stars, Length: 1218010, dtype: float64"
      ]
     },
     "metadata": {},
     "output_type": "display_data"
    },
    {
     "name": "stdout",
     "output_type": "stream",
     "text": [
      "\n",
      "mean of ratings = 4.32,\n",
      "ratings_median = 4.4,\n",
      "mode ratings = 4.5\n"
     ]
    }
   ],
   "source": [
    "print(df.columns)\n",
    "ratings = df.query(\"stars>0\")[\"stars\"]\n",
    "#ratings = df[df[\"stars\"]>0]\n",
    "#missing_ratings = df[\"stars\"].isnull().sum()\n",
    "#print(missing_ratings)\n",
    "display(ratings)\n",
    "ratings_mean = round(ratings.mean(),2)\n",
    "ratings_median = round(ratings.median(),2)\n",
    "ratings_mode = round(ratings.mode().iloc[0],2)\n",
    "\n",
    "print(f\"\"\"\n",
    "mean of ratings = {ratings_mean},\n",
    "ratings_median = {ratings_median},\n",
    "mode ratings = {ratings_mode}\"\"\")"
   ]
  },
  {
   "cell_type": "markdown",
   "id": "cba290e1",
   "metadata": {},
   "source": [
    "costumers usually rate products very highly as seen by the very high mean median and mode"
   ]
  },
  {
   "cell_type": "markdown",
   "id": "0d291010",
   "metadata": {},
   "source": []
  },
  {
   "cell_type": "code",
   "execution_count": 15,
   "id": "88f6c1ed",
   "metadata": {},
   "outputs": [
    {
     "name": "stdout",
     "output_type": "stream",
     "text": [
      "\n",
      "standard deviation of ratings = 0.56,\n",
      "range of ratings = 4.0,\n",
      "interquantile of ratings = 0.5\n"
     ]
    }
   ],
   "source": [
    "ratings_std = round(ratings.std(),2)\n",
    "ratings_iqr = round(ratings.quantile(0.75)-ratings.quantile(0.25),2)\n",
    "ratings_range = round(ratings.max()-ratings.min(),2)\n",
    "print(f\"\"\"\n",
    "standard deviation of ratings = {ratings_std},\n",
    "range of ratings = {ratings_range},\n",
    "interquantile of ratings = {ratings_iqr}\"\"\")"
   ]
  },
  {
   "cell_type": "markdown",
   "id": "c4538398",
   "metadata": {},
   "source": [
    "ratings are in big part consistent as proven by the low standard deviation"
   ]
  },
  {
   "cell_type": "code",
   "execution_count": 16,
   "id": "c81ae35b",
   "metadata": {},
   "outputs": [
    {
     "name": "stdout",
     "output_type": "stream",
     "text": [
      "\n",
      "skewness of ratings = -2.38,\n",
      "kurtosis of ratings = 9.78\n"
     ]
    }
   ],
   "source": [
    "skewness = round(ratings.skew(),2)\n",
    "kurtosis = round(ratings.kurtosis(),2)  \n",
    "print(f\"\"\"\n",
    "skewness of ratings = {skewness},\n",
    "kurtosis of ratings = {kurtosis}\"\"\")"
   ]
  },
  {
   "cell_type": "markdown",
   "id": "8370a8d9",
   "metadata": {},
   "source": [
    "the data is negatively skewed which means there are relatively few low ratings in comparison to the amount of high ratings.\n",
    "A high kurtosis as seen above means that most products have similar ratings but some extreme outliers exist."
   ]
  },
  {
   "cell_type": "code",
   "execution_count": 22,
   "id": "52fcd3b1",
   "metadata": {},
   "outputs": [
    {
     "data": {
      "image/png": "[encoded data removed]",
      "text/plain": [
       "<Figure size 800x500 with 1 Axes>"
      ]
     },
     "metadata": {},
     "output_type": "display_data"
    }
   ],
   "source": [
    "# Histogram\n",
    "plt.figure(figsize=(8,5))  # Figure width=8, height=5 inches\n",
    "sns.histplot(ratings, bins=20)  # 20 bins, no KDE curve\n",
    "plt.title(f'Histogram of ratings')\n",
    "plt.xlabel(\"ratings\")\n",
    "plt.ylabel('Frequency')\n",
    "plt.show()"
   ]
  },
  {
   "cell_type": "code",
   "execution_count": null,
   "id": "669db872",
   "metadata": {},
   "outputs": [],
   "source": []
  }
 ],
 "metadata": {
  "kernelspec": {
   "display_name": "Python 3",
   "language": "python",
   "name": "python3"
  },
  "language_info": {
   "codemirror_mode": {
    "name": "ipython",
    "version": 3
   },
   "file_extension": ".py",
   "mimetype": "text/x-python",
   "name": "python",
   "nbconvert_exporter": "python",
   "pygments_lexer": "ipython3",
   "version": "3.11.3"
  }
 },
 "nbformat": 4,
 "nbformat_minor": 5
}
